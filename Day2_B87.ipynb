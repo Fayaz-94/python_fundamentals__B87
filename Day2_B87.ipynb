{
 "cells": [
  {
   "cell_type": "code",
   "execution_count": null,
   "id": "4c1d4fc8-9ebb-4631-a23c-c21a2cb60484",
   "metadata": {},
   "outputs": [],
   "source": [
    "introduction to Datatypes :\n",
    "\n",
    "1. Strings =====> str\n",
    "\n",
    "2. Numbers ====> integers ( int) and floats (decimals) 0.1,0.2,1.5\n",
    "\n",
    "3. List  =====> list\n",
    "\n",
    "4. Tuples ====. tuple\n",
    "\n",
    "5. Dictionries ====> dict"
   ]
  },
  {
   "cell_type": "code",
   "execution_count": null,
   "id": "9e932647-abd7-42ad-af54-f7298932cabd",
   "metadata": {},
   "outputs": [],
   "source": []
  },
  {
   "cell_type": "code",
   "execution_count": null,
   "id": "116b9213-780c-42c9-8524-bda3b3948d87",
   "metadata": {},
   "outputs": [],
   "source": [
    "classification of datatypes :\n",
    "\n",
    "Broadly datatypes are classified in to two categeories :\n",
    "\n",
    "1. mutable datatypes ===> which we can be able to edit / alter ===> flexible in nature\n",
    "\n",
    "2. immutable datatypes ===> which we cannot be able to edit / alter ===> fixed in nature"
   ]
  },
  {
   "cell_type": "code",
   "execution_count": null,
   "id": "a1657007-993c-414c-bb25-7d969631f959",
   "metadata": {},
   "outputs": [],
   "source": []
  },
  {
   "cell_type": "code",
   "execution_count": null,
   "id": "9c6a8f4a-ded7-44d1-9794-3eca328c702d",
   "metadata": {},
   "outputs": [],
   "source": [
    "Note : python is case senstive programming langauge"
   ]
  },
  {
   "cell_type": "code",
   "execution_count": null,
   "id": "d614efc7-95cc-40f4-9f96-433c176be14b",
   "metadata": {},
   "outputs": [],
   "source": []
  },
  {
   "cell_type": "code",
   "execution_count": null,
   "id": "510d85ac-dd69-41cb-ac40-f5a654586414",
   "metadata": {},
   "outputs": [],
   "source": [
    "introduction to string datatype :\n",
    "\n",
    "defination : A string is a series of characters declared in quotes.\n",
    "\n",
    "classification : it is classified as an immutable datatype\n",
    "\n",
    "how to declare the string datatype ---------> ?\n",
    "\n",
    "1. single quote ====> ' '\n",
    "\n",
    "2. double quote ====> \" \""
   ]
  },
  {
   "cell_type": "code",
   "execution_count": null,
   "id": "7fdc8716-4bd8-42ee-9be2-3401d273118d",
   "metadata": {},
   "outputs": [],
   "source": []
  },
  {
   "cell_type": "code",
   "execution_count": 5,
   "id": "644cf750-92aa-478e-aa5a-1932b2e3155c",
   "metadata": {},
   "outputs": [
    {
     "name": "stdout",
     "output_type": "stream",
     "text": [
      "raju\n"
     ]
    }
   ],
   "source": [
    "name = 'raju'   # single quote\n",
    "\n",
    "print(name)"
   ]
  },
  {
   "cell_type": "code",
   "execution_count": 7,
   "id": "962ad09d-6e76-4595-8d27-7d53a292ec74",
   "metadata": {},
   "outputs": [
    {
     "name": "stdout",
     "output_type": "stream",
     "text": [
      "joseph\n"
     ]
    }
   ],
   "source": [
    "name2 = \"joseph\"  # double quotes\n",
    "\n",
    "print(name2)"
   ]
  },
  {
   "cell_type": "code",
   "execution_count": null,
   "id": "615ac5eb-11cd-4138-a925-731a657fca8f",
   "metadata": {},
   "outputs": [],
   "source": [
    "# is used for commenting the code"
   ]
  },
  {
   "cell_type": "code",
   "execution_count": 9,
   "id": "6015a8e5-1302-46cd-a5ba-4cc709c250fc",
   "metadata": {},
   "outputs": [
    {
     "ename": "SyntaxError",
     "evalue": "invalid syntax (2309522329.py, line 1)",
     "output_type": "error",
     "traceback": [
      "\u001b[1;36m  Cell \u001b[1;32mIn[9], line 1\u001b[1;36m\u001b[0m\n\u001b[1;33m    name2 = \"joseph\"   double quotes\u001b[0m\n\u001b[1;37m                       ^\u001b[0m\n\u001b[1;31mSyntaxError\u001b[0m\u001b[1;31m:\u001b[0m invalid syntax\n"
     ]
    }
   ],
   "source": [
    "name2 = \"joseph\"   double quotes\n",
    "\n",
    "print(name2)"
   ]
  },
  {
   "cell_type": "code",
   "execution_count": null,
   "id": "8facec92-412f-4f78-bf4d-5f4cb9cf5428",
   "metadata": {},
   "outputs": [],
   "source": [
    "introduction to string methods :"
   ]
  },
  {
   "cell_type": "code",
   "execution_count": 11,
   "id": "1b986d4b-62f8-4844-b598-4e8acf6b7e12",
   "metadata": {},
   "outputs": [
    {
     "data": {
      "text/plain": [
       "str"
      ]
     },
     "execution_count": 11,
     "metadata": {},
     "output_type": "execute_result"
    }
   ],
   "source": [
    "type(name)"
   ]
  },
  {
   "cell_type": "code",
   "execution_count": 13,
   "id": "635fda32-23e4-49a7-8543-e1a30f128d56",
   "metadata": {},
   "outputs": [
    {
     "data": {
      "text/plain": [
       "str"
      ]
     },
     "execution_count": 13,
     "metadata": {},
     "output_type": "execute_result"
    }
   ],
   "source": [
    "type(name2)"
   ]
  },
  {
   "cell_type": "code",
   "execution_count": null,
   "id": "ed57fa4d-bb2b-456b-813a-595842845137",
   "metadata": {},
   "outputs": [],
   "source": [
    "type methods is used to verify and validate what kind of datatype it is."
   ]
  },
  {
   "cell_type": "code",
   "execution_count": 15,
   "id": "faf3ed1d-fe9e-4e45-8eda-05f8ec96a819",
   "metadata": {},
   "outputs": [
    {
     "name": "stdout",
     "output_type": "stream",
     "text": [
      "ashwin raj\n"
     ]
    }
   ],
   "source": [
    "fullname = 'ashwin raj'\n",
    "\n",
    "print(fullname)"
   ]
  },
  {
   "cell_type": "code",
   "execution_count": 17,
   "id": "8acbda1b-8618-4c79-9298-8c2579678733",
   "metadata": {},
   "outputs": [
    {
     "name": "stdout",
     "output_type": "stream",
     "text": [
      "Ashwin Raj\n"
     ]
    }
   ],
   "source": [
    "print(fullname.title())"
   ]
  },
  {
   "cell_type": "code",
   "execution_count": null,
   "id": "07243601-b077-4d6e-a6f3-190bbfeacd82",
   "metadata": {},
   "outputs": [],
   "source": [
    "# req : i want the entire name in capitals "
   ]
  },
  {
   "cell_type": "code",
   "execution_count": 19,
   "id": "42057760-0a3e-4182-9dad-8ea4d77b485d",
   "metadata": {},
   "outputs": [
    {
     "name": "stdout",
     "output_type": "stream",
     "text": [
      "ASHWIN RAJ\n"
     ]
    }
   ],
   "source": [
    "print(fullname.upper())"
   ]
  },
  {
   "cell_type": "code",
   "execution_count": null,
   "id": "e560a4b1-03df-48eb-a265-621bcfbd5599",
   "metadata": {},
   "outputs": [],
   "source": [
    "# req : i want the entire name in small case letters"
   ]
  },
  {
   "cell_type": "code",
   "execution_count": 21,
   "id": "7c83e750-033e-4fb0-85df-ff7ae237e013",
   "metadata": {},
   "outputs": [
    {
     "name": "stdout",
     "output_type": "stream",
     "text": [
      "ashwin raj\n"
     ]
    }
   ],
   "source": [
    "print(fullname.lower())"
   ]
  },
  {
   "cell_type": "code",
   "execution_count": null,
   "id": "4418cf7e-18e3-440d-b6ae-8d0c9093bb16",
   "metadata": {},
   "outputs": [],
   "source": []
  },
  {
   "cell_type": "code",
   "execution_count": null,
   "id": "ac138c60-14e2-46fe-96a9-36232b52be8c",
   "metadata": {},
   "outputs": [],
   "source": []
  }
 ],
 "metadata": {
  "kernelspec": {
   "display_name": "Python 3 (ipykernel)",
   "language": "python",
   "name": "python3"
  },
  "language_info": {
   "codemirror_mode": {
    "name": "ipython",
    "version": 3
   },
   "file_extension": ".py",
   "mimetype": "text/x-python",
   "name": "python",
   "nbconvert_exporter": "python",
   "pygments_lexer": "ipython3",
   "version": "3.12.4"
  }
 },
 "nbformat": 4,
 "nbformat_minor": 5
}
