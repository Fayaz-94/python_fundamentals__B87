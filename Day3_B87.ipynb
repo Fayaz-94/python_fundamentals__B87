{
 "cells": [
  {
   "cell_type": "code",
   "execution_count": null,
   "id": "8d8af7d5-1b73-4bef-ae2a-2367d8e7c4c2",
   "metadata": {},
   "outputs": [],
   "source": [
    "continutaion with the string datatype :"
   ]
  },
  {
   "cell_type": "code",
   "execution_count": null,
   "id": "5afdc29b-6a2e-4ab4-a8f5-a8dd29992cdd",
   "metadata": {},
   "outputs": [],
   "source": []
  },
  {
   "cell_type": "code",
   "execution_count": 1,
   "id": "818a56bf-9355-44c1-bf8f-f03fc0c35406",
   "metadata": {},
   "outputs": [],
   "source": [
    "firstname = 'ravi'\n",
    "lastname = 'kumar'"
   ]
  },
  {
   "cell_type": "code",
   "execution_count": null,
   "id": "d6a0dc23-5c0f-41a4-8763-4a4214c39927",
   "metadata": {},
   "outputs": [],
   "source": [
    "# req : i want to get the full name....?"
   ]
  },
  {
   "cell_type": "code",
   "execution_count": null,
   "id": "65051af6-7e8e-407a-b08a-a1df774b57a2",
   "metadata": {},
   "outputs": [],
   "source": []
  },
  {
   "cell_type": "code",
   "execution_count": null,
   "id": "4337af17-14f1-44df-8ed0-e63e17dce4f8",
   "metadata": {},
   "outputs": [],
   "source": [
    "introduction to f strings :"
   ]
  },
  {
   "cell_type": "code",
   "execution_count": null,
   "id": "f8e81089-713c-4c82-ae86-e53e063062b4",
   "metadata": {},
   "outputs": [],
   "source": [
    "# genral syntax of f strings"
   ]
  },
  {
   "cell_type": "code",
   "execution_count": null,
   "id": "097bcc14-9799-4a18-9381-f9256945b749",
   "metadata": {},
   "outputs": [],
   "source": [
    "f\" custom message {placeholder1} {placeholder2}.......{placeholder....n}\""
   ]
  },
  {
   "cell_type": "code",
   "execution_count": null,
   "id": "fe37316d-6efb-4b4b-b73e-85c98b3b6498",
   "metadata": {},
   "outputs": [],
   "source": []
  },
  {
   "cell_type": "code",
   "execution_count": 3,
   "id": "4a46a8bd-7b0b-4f10-ab69-d3e0aed13314",
   "metadata": {},
   "outputs": [
    {
     "name": "stdout",
     "output_type": "stream",
     "text": [
      "ravi kumar\n"
     ]
    }
   ],
   "source": [
    "fullname = f\"{firstname} {lastname}\"\n",
    "\n",
    "print(fullname)"
   ]
  },
  {
   "cell_type": "code",
   "execution_count": 5,
   "id": "2e019ea7-19b7-436b-bfb9-880124a17a5a",
   "metadata": {},
   "outputs": [
    {
     "name": "stdout",
     "output_type": "stream",
     "text": [
      "Ravi Kumar\n"
     ]
    }
   ],
   "source": [
    "print(fullname.title())"
   ]
  },
  {
   "cell_type": "code",
   "execution_count": 7,
   "id": "d0f3ccbe-ce31-471c-a0ad-3ae384a056ef",
   "metadata": {},
   "outputs": [
    {
     "name": "stdout",
     "output_type": "stream",
     "text": [
      "keep up the good work ravi kumar\n"
     ]
    }
   ],
   "source": [
    "message = f\"keep up the good work {fullname}\"\n",
    "\n",
    "print(message)"
   ]
  },
  {
   "cell_type": "code",
   "execution_count": 9,
   "id": "3b047621-e2bc-43d9-b3a2-307f6521f45c",
   "metadata": {},
   "outputs": [
    {
     "name": "stdout",
     "output_type": "stream",
     "text": [
      "keep up the good work Ravi Kumar\n"
     ]
    }
   ],
   "source": [
    "message = f\"keep up the good work {fullname.title()}\"\n",
    "\n",
    "print(message)"
   ]
  },
  {
   "cell_type": "code",
   "execution_count": null,
   "id": "5f8ee2c5-4392-4139-a04f-75977f27f1df",
   "metadata": {},
   "outputs": [],
   "source": []
  },
  {
   "cell_type": "code",
   "execution_count": null,
   "id": "d6b2b1b8-4caa-4547-907b-fa430ca8a8ce",
   "metadata": {},
   "outputs": [],
   "source": [
    "adding whitespaces to strings :"
   ]
  },
  {
   "cell_type": "code",
   "execution_count": 11,
   "id": "1a13b16c-71fa-41f0-8d53-da15edd30198",
   "metadata": {},
   "outputs": [
    {
     "name": "stdout",
     "output_type": "stream",
     "text": [
      "favourite_prog_language:pythonjavac++swiftreactcpascal\n"
     ]
    }
   ],
   "source": [
    "print(\"favourite_prog_language:pythonjavac++swiftreactcpascal\")"
   ]
  },
  {
   "cell_type": "code",
   "execution_count": 13,
   "id": "47eba0dc-d9d2-4399-88f1-6703ce8e120f",
   "metadata": {},
   "outputs": [
    {
     "name": "stdout",
     "output_type": "stream",
     "text": [
      "favourite_prog_language:\n",
      "python\n",
      "java\n",
      "c++\n",
      "swift\n",
      "react\n",
      "c\n",
      "pascal\n"
     ]
    }
   ],
   "source": [
    "print(\"favourite_prog_language:\\npython\\njava\\nc++\\nswift\\nreact\\nc\\npascal\")  # \\n ---> new line delimiter"
   ]
  },
  {
   "cell_type": "code",
   "execution_count": 15,
   "id": "7091749f-b29e-4bae-b44a-a0a7327bb596",
   "metadata": {},
   "outputs": [
    {
     "name": "stdout",
     "output_type": "stream",
     "text": [
      "favourite_prog_language:\n",
      "\tpython\n",
      "\tjava\n",
      "\tc++\n",
      "\tswift\n",
      "\treact\n",
      "\tc\n",
      "\tpascal\n"
     ]
    }
   ],
   "source": [
    "print(\"favourite_prog_language:\\n\\tpython\\n\\tjava\\n\\tc++\\n\\tswift\\n\\treact\\n\\tc\\n\\tpascal\") # \\t ---> tab delimiter"
   ]
  },
  {
   "cell_type": "code",
   "execution_count": null,
   "id": "827d499c-3955-4056-920d-e2eb20b77a5c",
   "metadata": {},
   "outputs": [],
   "source": [
    "Removing whitespaces from the strings :"
   ]
  },
  {
   "cell_type": "code",
   "execution_count": 17,
   "id": "bb6e4f5c-7da3-4315-b859-36416f0fb000",
   "metadata": {},
   "outputs": [
    {
     "name": "stdout",
     "output_type": "stream",
     "text": [
      "python\n"
     ]
    }
   ],
   "source": [
    "name = 'python'    # no gap\n",
    "\n",
    "print(name)"
   ]
  },
  {
   "cell_type": "code",
   "execution_count": 19,
   "id": "7557262e-5a01-45f1-bfd3-19462cd801b2",
   "metadata": {},
   "outputs": [
    {
     "name": "stdout",
     "output_type": "stream",
     "text": [
      "  python\n"
     ]
    }
   ],
   "source": [
    "name2 = \"  python\"  # gap on the left\n",
    "\n",
    "print(name2)"
   ]
  },
  {
   "cell_type": "code",
   "execution_count": 21,
   "id": "6430a967-93a0-459a-87cd-7656afe8b7ae",
   "metadata": {},
   "outputs": [
    {
     "name": "stdout",
     "output_type": "stream",
     "text": [
      "python  \n"
     ]
    }
   ],
   "source": [
    "name3 = 'python  '  # gap on the right side....\n",
    "\n",
    "print(name3)"
   ]
  },
  {
   "cell_type": "code",
   "execution_count": null,
   "id": "a2abf121-26e1-438a-b2bf-ec09b8dd9ff1",
   "metadata": {},
   "outputs": [],
   "source": [
    "strip method"
   ]
  },
  {
   "cell_type": "code",
   "execution_count": 23,
   "id": "285461fd-8a2d-473c-a859-da16bec66641",
   "metadata": {},
   "outputs": [
    {
     "data": {
      "text/plain": [
       "'python'"
      ]
     },
     "execution_count": 23,
     "metadata": {},
     "output_type": "execute_result"
    }
   ],
   "source": [
    "name2.strip()"
   ]
  },
  {
   "cell_type": "code",
   "execution_count": 25,
   "id": "3cebe466-6d58-43af-8989-687dd0668c7b",
   "metadata": {},
   "outputs": [
    {
     "data": {
      "text/plain": [
       "'python'"
      ]
     },
     "execution_count": 25,
     "metadata": {},
     "output_type": "execute_result"
    }
   ],
   "source": [
    "name3.strip()"
   ]
  },
  {
   "cell_type": "code",
   "execution_count": null,
   "id": "9d3b7a67-2f4a-4330-b2b6-9d1aac3ed9f6",
   "metadata": {},
   "outputs": [],
   "source": []
  }
 ],
 "metadata": {
  "kernelspec": {
   "display_name": "Python 3 (ipykernel)",
   "language": "python",
   "name": "python3"
  },
  "language_info": {
   "codemirror_mode": {
    "name": "ipython",
    "version": 3
   },
   "file_extension": ".py",
   "mimetype": "text/x-python",
   "name": "python",
   "nbconvert_exporter": "python",
   "pygments_lexer": "ipython3",
   "version": "3.12.4"
  }
 },
 "nbformat": 4,
 "nbformat_minor": 5
}
