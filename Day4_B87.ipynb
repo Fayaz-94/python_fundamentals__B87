{
 "cells": [
  {
   "cell_type": "code",
   "execution_count": null,
   "id": "b7b8b7af-6ddc-453c-b119-82ca01f5736c",
   "metadata": {},
   "outputs": [],
   "source": [
    "introduction to list datatype :"
   ]
  },
  {
   "cell_type": "code",
   "execution_count": null,
   "id": "dbc4ed75-57ba-4824-aa1d-5c622cbf6ad0",
   "metadata": {},
   "outputs": [],
   "source": [
    "Defination : A list is a collection of items declared in a particular order.\n",
    "\n",
    "classification : it is classified as an mutable datatype\n",
    "\n",
    "How to declare the list -------> [ ]"
   ]
  },
  {
   "cell_type": "code",
   "execution_count": null,
   "id": "bf489ff4-fdf5-44a7-a631-c7373e433d79",
   "metadata": {},
   "outputs": [],
   "source": []
  },
  {
   "cell_type": "code",
   "execution_count": 1,
   "id": "9ea39e87-6ea4-41cf-900f-2301697ac421",
   "metadata": {},
   "outputs": [],
   "source": [
    "students = ['saima','keerthi','naveen','kalyan','sajith','praveen']  # 0,1,2,3,4,5"
   ]
  },
  {
   "cell_type": "code",
   "execution_count": 3,
   "id": "bcb9ca47-9c02-44f1-af4d-84ba9a815392",
   "metadata": {},
   "outputs": [
    {
     "name": "stdout",
     "output_type": "stream",
     "text": [
      "['saima', 'keerthi', 'naveen', 'kalyan', 'sajith', 'praveen']\n"
     ]
    }
   ],
   "source": [
    "print(students)"
   ]
  },
  {
   "cell_type": "code",
   "execution_count": 5,
   "id": "24dd368a-e5ef-4aa4-86af-40693e382579",
   "metadata": {},
   "outputs": [
    {
     "data": {
      "text/plain": [
       "list"
      ]
     },
     "execution_count": 5,
     "metadata": {},
     "output_type": "execute_result"
    }
   ],
   "source": [
    "type(students)"
   ]
  },
  {
   "cell_type": "code",
   "execution_count": null,
   "id": "7c7f6d35-47ab-4682-a2d0-82071d3f8232",
   "metadata": {},
   "outputs": [],
   "source": [
    "introduction to indexation : 0,1,2,3,................n"
   ]
  },
  {
   "cell_type": "code",
   "execution_count": null,
   "id": "a39057e4-0f61-44dd-9781-3d57279e1bf9",
   "metadata": {},
   "outputs": [],
   "source": [
    "# req : i want to access keerthi name in the output.....?"
   ]
  },
  {
   "cell_type": "code",
   "execution_count": 7,
   "id": "2cf3b42c-df89-4a56-ad20-1a69434a65bc",
   "metadata": {},
   "outputs": [
    {
     "name": "stdout",
     "output_type": "stream",
     "text": [
      "keerthi\n"
     ]
    }
   ],
   "source": [
    "print(students[1])"
   ]
  },
  {
   "cell_type": "code",
   "execution_count": 11,
   "id": "1540f529-2036-49b5-9fec-46ee30fde455",
   "metadata": {},
   "outputs": [
    {
     "name": "stdout",
     "output_type": "stream",
     "text": [
      "Keerthi\n"
     ]
    }
   ],
   "source": [
    "print(students[1].title())"
   ]
  },
  {
   "cell_type": "code",
   "execution_count": null,
   "id": "15d2a9d9-09ad-4f1c-a6b6-6fcbb5c04860",
   "metadata": {},
   "outputs": [],
   "source": [
    "# req : i want to access kalyan name in the output.....?"
   ]
  },
  {
   "cell_type": "code",
   "execution_count": 13,
   "id": "3d0cb2f7-176b-4841-95be-93c77e0a9227",
   "metadata": {},
   "outputs": [
    {
     "name": "stdout",
     "output_type": "stream",
     "text": [
      "Kalyan\n"
     ]
    }
   ],
   "source": [
    "print(students[3].title())"
   ]
  },
  {
   "cell_type": "code",
   "execution_count": null,
   "id": "6b2c6072-2982-4fbf-8e63-caccae5ca37b",
   "metadata": {},
   "outputs": [],
   "source": [
    "1. how to add new elements in the list ============ completed\n",
    "\n",
    "2. how to modify the elements in the list ========= completed.\n",
    "\n",
    "3. how to delete the elements in the list. ======== completed."
   ]
  },
  {
   "cell_type": "code",
   "execution_count": 15,
   "id": "8654df48-48f7-429e-a887-57fda579f40a",
   "metadata": {},
   "outputs": [
    {
     "name": "stdout",
     "output_type": "stream",
     "text": [
      "['saima', 'keerthi', 'naveen', 'kalyan', 'sajith', 'praveen']\n"
     ]
    }
   ],
   "source": [
    "print(students)"
   ]
  },
  {
   "cell_type": "code",
   "execution_count": null,
   "id": "143e8920-f933-48fa-9079-bb93b76660d1",
   "metadata": {},
   "outputs": [],
   "source": [
    "# i want to add adil to the above list..."
   ]
  },
  {
   "cell_type": "code",
   "execution_count": 17,
   "id": "81eaa5e9-c16f-4cdb-ad77-1e756c2c45f9",
   "metadata": {},
   "outputs": [],
   "source": [
    "students.append('adil')"
   ]
  },
  {
   "cell_type": "code",
   "execution_count": 19,
   "id": "f5c1de08-2cdf-4709-b49a-04734e30ba2e",
   "metadata": {},
   "outputs": [
    {
     "name": "stdout",
     "output_type": "stream",
     "text": [
      "['saima', 'keerthi', 'naveen', 'kalyan', 'sajith', 'praveen', 'adil']\n"
     ]
    }
   ],
   "source": [
    "print(students)"
   ]
  },
  {
   "cell_type": "code",
   "execution_count": null,
   "id": "2ca016ff-49b4-47c7-b3d3-712e4e3b9142",
   "metadata": {},
   "outputs": [],
   "source": [
    "# i want to suresh to the above list..."
   ]
  },
  {
   "cell_type": "code",
   "execution_count": 21,
   "id": "4b9f2d1a-c386-458d-90df-ef4813ce491f",
   "metadata": {},
   "outputs": [],
   "source": [
    "students.append('suresh')"
   ]
  },
  {
   "cell_type": "code",
   "execution_count": 23,
   "id": "0225d027-269a-4fdb-9e4c-4a0dfbaea432",
   "metadata": {},
   "outputs": [
    {
     "name": "stdout",
     "output_type": "stream",
     "text": [
      "['saima', 'keerthi', 'naveen', 'kalyan', 'sajith', 'praveen', 'adil', 'suresh']\n"
     ]
    }
   ],
   "source": [
    "print(students)"
   ]
  },
  {
   "cell_type": "code",
   "execution_count": null,
   "id": "0e88a58c-fe12-4473-8c0d-847a45a9e8ff",
   "metadata": {},
   "outputs": [],
   "source": [
    "# req : i want to add neha at 2nd index..."
   ]
  },
  {
   "cell_type": "code",
   "execution_count": 25,
   "id": "9a08eefb-72db-452e-8975-7609498b71fd",
   "metadata": {},
   "outputs": [],
   "source": [
    "students.insert(2,'neha')"
   ]
  },
  {
   "cell_type": "code",
   "execution_count": 27,
   "id": "c903e8eb-a8d1-4ba7-af18-d49b69f82899",
   "metadata": {},
   "outputs": [
    {
     "name": "stdout",
     "output_type": "stream",
     "text": [
      "['saima', 'keerthi', 'neha', 'naveen', 'kalyan', 'sajith', 'praveen', 'adil', 'suresh']\n"
     ]
    }
   ],
   "source": [
    "print(students)"
   ]
  },
  {
   "cell_type": "code",
   "execution_count": null,
   "id": "85248a83-f8e7-4ca9-be71-a986bc786d9e",
   "metadata": {},
   "outputs": [],
   "source": [
    "interview_que : what is the diff btw append method and insert method in a list datatype....can you pls explain....?"
   ]
  },
  {
   "cell_type": "code",
   "execution_count": 29,
   "id": "99f8e7de-fd68-4e9e-8772-437e58ade9bc",
   "metadata": {},
   "outputs": [
    {
     "name": "stdout",
     "output_type": "stream",
     "text": [
      "['saima', 'keerthi', 'neha', 'naveen', 'kalyan', 'sajith', 'praveen', 'adil', 'suresh']\n"
     ]
    }
   ],
   "source": [
    "print(students)"
   ]
  },
  {
   "cell_type": "code",
   "execution_count": null,
   "id": "d43f1ad6-6655-4742-bbc2-433e8285790e",
   "metadata": {},
   "outputs": [],
   "source": [
    "# req : i want to modify keerthi name to kiran...."
   ]
  },
  {
   "cell_type": "code",
   "execution_count": 31,
   "id": "9708f358-e7ad-444d-a032-486550d4e401",
   "metadata": {},
   "outputs": [],
   "source": [
    "students[1] = 'kiran'"
   ]
  },
  {
   "cell_type": "code",
   "execution_count": 33,
   "id": "1080f269-2025-4bfa-9f7e-b0c25b56926b",
   "metadata": {},
   "outputs": [
    {
     "name": "stdout",
     "output_type": "stream",
     "text": [
      "['saima', 'kiran', 'neha', 'naveen', 'kalyan', 'sajith', 'praveen', 'adil', 'suresh']\n"
     ]
    }
   ],
   "source": [
    "print(students)"
   ]
  },
  {
   "cell_type": "code",
   "execution_count": null,
   "id": "076c66c2-1aa4-4347-bbac-2ea73351b86a",
   "metadata": {},
   "outputs": [],
   "source": [
    "# req : i want to delete neha in the above list.....?"
   ]
  },
  {
   "cell_type": "code",
   "execution_count": 35,
   "id": "3e1250ba-26fb-42be-b76f-edc74007791d",
   "metadata": {},
   "outputs": [],
   "source": [
    "del students[2]"
   ]
  },
  {
   "cell_type": "code",
   "execution_count": 37,
   "id": "52fc5d15-dca1-43db-92bc-cdaa80ee077c",
   "metadata": {},
   "outputs": [
    {
     "name": "stdout",
     "output_type": "stream",
     "text": [
      "['saima', 'kiran', 'naveen', 'kalyan', 'sajith', 'praveen', 'adil', 'suresh']\n"
     ]
    }
   ],
   "source": [
    "print(students)"
   ]
  },
  {
   "cell_type": "code",
   "execution_count": null,
   "id": "141229a3-f61c-4347-8b5e-70c2ec865dcf",
   "metadata": {},
   "outputs": [],
   "source": []
  },
  {
   "cell_type": "code",
   "execution_count": null,
   "id": "f95b7fcc-7907-4056-8f4b-6ca7d242b3a4",
   "metadata": {},
   "outputs": [],
   "source": [
    "Zen of python :"
   ]
  },
  {
   "cell_type": "code",
   "execution_count": 39,
   "id": "35154f7f-2ebf-4111-b320-64668b794758",
   "metadata": {},
   "outputs": [
    {
     "name": "stdout",
     "output_type": "stream",
     "text": [
      "The Zen of Python, by Tim Peters\n",
      "\n",
      "Beautiful is better than ugly.\n",
      "Explicit is better than implicit.\n",
      "Simple is better than complex.\n",
      "Complex is better than complicated.\n",
      "Flat is better than nested.\n",
      "Sparse is better than dense.\n",
      "Readability counts.\n",
      "Special cases aren't special enough to break the rules.\n",
      "Although practicality beats purity.\n",
      "Errors should never pass silently.\n",
      "Unless explicitly silenced.\n",
      "In the face of ambiguity, refuse the temptation to guess.\n",
      "There should be one-- and preferably only one --obvious way to do it.\n",
      "Although that way may not be obvious at first unless you're Dutch.\n",
      "Now is better than never.\n",
      "Although never is often better than *right* now.\n",
      "If the implementation is hard to explain, it's a bad idea.\n",
      "If the implementation is easy to explain, it may be a good idea.\n",
      "Namespaces are one honking great idea -- let's do more of those!\n"
     ]
    }
   ],
   "source": [
    "import this"
   ]
  },
  {
   "cell_type": "code",
   "execution_count": null,
   "id": "a63a8002-4124-4042-b87a-0e239aef4c90",
   "metadata": {},
   "outputs": [],
   "source": []
  },
  {
   "cell_type": "code",
   "execution_count": null,
   "id": "035b4b1c-9f0c-4e73-b89d-073e5a767533",
   "metadata": {},
   "outputs": [],
   "source": []
  },
  {
   "cell_type": "code",
   "execution_count": null,
   "id": "94a05a08-82a9-474e-9e24-87e6b0c24e74",
   "metadata": {},
   "outputs": [],
   "source": []
  },
  {
   "cell_type": "code",
   "execution_count": null,
   "id": "7505655f-7d19-4b27-abd7-1977f604cd31",
   "metadata": {},
   "outputs": [],
   "source": []
  }
 ],
 "metadata": {
  "kernelspec": {
   "display_name": "Python 3 (ipykernel)",
   "language": "python",
   "name": "python3"
  },
  "language_info": {
   "codemirror_mode": {
    "name": "ipython",
    "version": 3
   },
   "file_extension": ".py",
   "mimetype": "text/x-python",
   "name": "python",
   "nbconvert_exporter": "python",
   "pygments_lexer": "ipython3",
   "version": "3.12.4"
  }
 },
 "nbformat": 4,
 "nbformat_minor": 5
}
